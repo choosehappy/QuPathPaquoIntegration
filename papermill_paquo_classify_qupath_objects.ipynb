{
 "cells": [
  {
   "cell_type": "code",
   "execution_count": 1,
   "metadata": {
    "pycharm": {
     "name": "#%%\n"
    }
   },
   "outputs": [],
   "source": [
    "import sys\n",
    "import papermill as pm\n",
    "from tqdm.notebook import tqdm as tqdm"
   ]
  },
  {
   "cell_type": "code",
   "execution_count": 2,
   "metadata": {
    "pycharm": {
     "name": "#%%\n"
    }
   },
   "outputs": [],
   "source": [
    "PROJECT_NAMES = ['project4','project3_3.2.1', 'project1']"
   ]
  },
  {
   "cell_type": "code",
   "execution_count": null,
   "metadata": {
    "pycharm": {
     "name": "#%%\n",
     "is_executing": true
    }
   },
   "outputs": [],
   "source": [
    "pm.inspect_notebook('./paquo_classify_qupath_objects.ipynb')"
   ]
  },
  {
   "cell_type": "code",
   "execution_count": null,
   "metadata": {
    "pycharm": {
     "name": "#%%\n",
     "is_executing": true
    }
   },
   "outputs": [],
   "source": [
    "for project in tqdm(PROJECT_NAMES):\n",
    "    pm.execute_notebook(\n",
    "        input_path='./paquo_classify_qupath_objects.ipynb',\n",
    "        output_path='{PROJECT_NAME}.ipynb',\n",
    "        stdout_file=sys.stdout,\n",
    "        parameters=dict(PROJECT_NAME=project)\n",
    "    )"
   ]
  }
 ],
 "metadata": {
  "interpreter": {
   "hash": "d52807d67f3e8cf15fb967059b08eb0d2037336dac536055bc75cc744997a74b"
  },
  "kernelspec": {
   "display_name": "Pyolite",
   "language": "python",
   "name": "python3"
  },
  "language_info": {
   "codemirror_mode": {
    "name": "python",
    "version": 3
   },
   "file_extension": ".py",
   "mimetype": "text/x-python",
   "name": "python",
   "nbconvert_exporter": "python",
   "pygments_lexer": "ipython3",
   "version": "3.9.12"
  }
 },
 "nbformat": 4,
 "nbformat_minor": 4
}